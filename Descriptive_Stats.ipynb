{
 "cells": [
  {
   "cell_type": "markdown",
   "metadata": {},
   "source": [
    "# A Beginner Friendly Introduction to Descriptive Statistics 😎"
   ]
  },
  {
   "cell_type": "markdown",
   "metadata": {},
   "source": [
    "## Introduction:\n",
    "\n",
    "Descriptive statistics summarize and organize characteristics of a data set. A data set is a collection of responses or observations from a sample or entire population.\n",
    "\n",
    "In quantitative research, after collecting data, the first step of statistical analysis is to describe characteristics of the responses, such as the average of one variable (e.g., age), or the relation between two variables (e.g., age and creativity)."
   ]
  },
  {
   "attachments": {
    "task7_1.jpg": {
     "image/jpeg": "[encoded data removed]"
    }
   },
   "cell_type": "markdown",
   "metadata": {},
   "source": [
    "![task7_1.jpg](attachment:task7_1.jpg)"
   ]
  },
  {
   "cell_type": "markdown",
   "metadata": {},
   "source": [
    "Let us walk through each of the measures using a simple dataset to understand the measures of central tendency like Mean, Median, Mode and measures of variability such as range, standard deviation and variance. We will also see some more advanced concepts using normal distribution and box plots to understand the normality of the data set.\n",
    "\n",
    "In this notebook, we will calculate the measures of the data with both standard programming approach and more with robust approach using libraries like numpy, pandas, matplotlib and seaborn etc. These libraries are built-in tools to provide better understanding of the data and visualise the output."
   ]
  },
  {
   "cell_type": "markdown",
   "metadata": {},
   "source": [
    "__Let us import the libraries required for this notebook.__"
   ]
  },
  {
   "cell_type": "code",
   "execution_count": 2,
   "metadata": {},
   "outputs": [],
   "source": [
    "import numpy as np\n",
    "import pandas as pd\n",
    "import matplotlib.pyplot as plt\n",
    "import seaborn as sns\n",
    "import math\n",
    "from scipy import stats"
   ]
  },
  {
   "cell_type": "markdown",
   "metadata": {},
   "source": [
    "_Now that we have imported the required libraries and modules with aliases as np, pd, plt etc.., we can use them with these shortened names throughout this notebook_"
   ]
  },
  {
   "cell_type": "code",
   "execution_count": 3,
   "metadata": {},
   "outputs": [
    {
     "data": {
      "text/html": [
       "<div>\n",
       "<style scoped>\n",
       "    .dataframe tbody tr th:only-of-type {\n",
       "        vertical-align: middle;\n",
       "    }\n",
       "\n",
       "    .dataframe tbody tr th {\n",
       "        vertical-align: top;\n",
       "    }\n",
       "\n",
       "    .dataframe thead th {\n",
       "        text-align: right;\n",
       "    }\n",
       "</style>\n",
       "<table border=\"1\" class=\"dataframe\">\n",
       "  <thead>\n",
       "    <tr style=\"text-align: right;\">\n",
       "      <th></th>\n",
       "      <th>Mthly_HH_Income</th>\n",
       "      <th>Mthly_HH_Expense</th>\n",
       "      <th>No_of_Fly_Members</th>\n",
       "      <th>Emi_or_Rent_Amt</th>\n",
       "      <th>Annual_HH_Income</th>\n",
       "      <th>Highest_Qualified_Member</th>\n",
       "      <th>No_of_Earning_Members</th>\n",
       "    </tr>\n",
       "  </thead>\n",
       "  <tbody>\n",
       "    <tr>\n",
       "      <th>0</th>\n",
       "      <td>5000</td>\n",
       "      <td>8000</td>\n",
       "      <td>3</td>\n",
       "      <td>2000</td>\n",
       "      <td>64200</td>\n",
       "      <td>Under-Graduate</td>\n",
       "      <td>1</td>\n",
       "    </tr>\n",
       "    <tr>\n",
       "      <th>1</th>\n",
       "      <td>6000</td>\n",
       "      <td>7000</td>\n",
       "      <td>2</td>\n",
       "      <td>3000</td>\n",
       "      <td>79920</td>\n",
       "      <td>Illiterate</td>\n",
       "      <td>1</td>\n",
       "    </tr>\n",
       "    <tr>\n",
       "      <th>2</th>\n",
       "      <td>10000</td>\n",
       "      <td>4500</td>\n",
       "      <td>2</td>\n",
       "      <td>0</td>\n",
       "      <td>112800</td>\n",
       "      <td>Under-Graduate</td>\n",
       "      <td>1</td>\n",
       "    </tr>\n",
       "    <tr>\n",
       "      <th>3</th>\n",
       "      <td>10000</td>\n",
       "      <td>2000</td>\n",
       "      <td>1</td>\n",
       "      <td>0</td>\n",
       "      <td>97200</td>\n",
       "      <td>Illiterate</td>\n",
       "      <td>1</td>\n",
       "    </tr>\n",
       "    <tr>\n",
       "      <th>4</th>\n",
       "      <td>12500</td>\n",
       "      <td>12000</td>\n",
       "      <td>2</td>\n",
       "      <td>3000</td>\n",
       "      <td>147000</td>\n",
       "      <td>Graduate</td>\n",
       "      <td>1</td>\n",
       "    </tr>\n",
       "  </tbody>\n",
       "</table>\n",
       "</div>"
      ],
      "text/plain": [
       "   Mthly_HH_Income  Mthly_HH_Expense  No_of_Fly_Members  Emi_or_Rent_Amt  \\\n",
       "0             5000              8000                  3             2000   \n",
       "1             6000              7000                  2             3000   \n",
       "2            10000              4500                  2                0   \n",
       "3            10000              2000                  1                0   \n",
       "4            12500             12000                  2             3000   \n",
       "\n",
       "   Annual_HH_Income Highest_Qualified_Member  No_of_Earning_Members  \n",
       "0             64200           Under-Graduate                      1  \n",
       "1             79920               Illiterate                      1  \n",
       "2            112800           Under-Graduate                      1  \n",
       "3             97200               Illiterate                      1  \n",
       "4            147000                 Graduate                      1  "
      ]
     },
     "execution_count": 3,
     "metadata": {},
     "output_type": "execute_result"
    }
   ],
   "source": [
    "#Reading the dataset to the pandas dataframe\n",
    "df = pd.read_csv(\"data.csv\")\n",
    "#To read the top 5 elements in the dataset, we can use,\n",
    "df.head()"
   ]
  },
  {
   "cell_type": "markdown",
   "metadata": {},
   "source": [
    "__Rows__: These are individual responses or can be called a data point. <br>\n",
    "__Columns__: Here we can see that each column is representing an attribute or parameter."
   ]
  },
  {
   "cell_type": "code",
   "execution_count": 4,
   "metadata": {},
   "outputs": [
    {
     "data": {
      "text/html": [
       "<div>\n",
       "<style scoped>\n",
       "    .dataframe tbody tr th:only-of-type {\n",
       "        vertical-align: middle;\n",
       "    }\n",
       "\n",
       "    .dataframe tbody tr th {\n",
       "        vertical-align: top;\n",
       "    }\n",
       "\n",
       "    .dataframe thead th {\n",
       "        text-align: right;\n",
       "    }\n",
       "</style>\n",
       "<table border=\"1\" class=\"dataframe\">\n",
       "  <thead>\n",
       "    <tr style=\"text-align: right;\">\n",
       "      <th></th>\n",
       "      <th>Mthly_HH_Income</th>\n",
       "      <th>Mthly_HH_Expense</th>\n",
       "      <th>No_of_Fly_Members</th>\n",
       "      <th>Emi_or_Rent_Amt</th>\n",
       "      <th>Annual_HH_Income</th>\n",
       "      <th>No_of_Earning_Members</th>\n",
       "    </tr>\n",
       "  </thead>\n",
       "  <tbody>\n",
       "    <tr>\n",
       "      <th>count</th>\n",
       "      <td>50.000000</td>\n",
       "      <td>50.000000</td>\n",
       "      <td>50.000000</td>\n",
       "      <td>50.000000</td>\n",
       "      <td>5.000000e+01</td>\n",
       "      <td>50.000000</td>\n",
       "    </tr>\n",
       "    <tr>\n",
       "      <th>mean</th>\n",
       "      <td>41558.000000</td>\n",
       "      <td>18818.000000</td>\n",
       "      <td>4.060000</td>\n",
       "      <td>3060.000000</td>\n",
       "      <td>4.900190e+05</td>\n",
       "      <td>1.460000</td>\n",
       "    </tr>\n",
       "    <tr>\n",
       "      <th>std</th>\n",
       "      <td>26097.908979</td>\n",
       "      <td>12090.216824</td>\n",
       "      <td>1.517382</td>\n",
       "      <td>6241.434948</td>\n",
       "      <td>3.201358e+05</td>\n",
       "      <td>0.734291</td>\n",
       "    </tr>\n",
       "    <tr>\n",
       "      <th>min</th>\n",
       "      <td>5000.000000</td>\n",
       "      <td>2000.000000</td>\n",
       "      <td>1.000000</td>\n",
       "      <td>0.000000</td>\n",
       "      <td>6.420000e+04</td>\n",
       "      <td>1.000000</td>\n",
       "    </tr>\n",
       "    <tr>\n",
       "      <th>25%</th>\n",
       "      <td>23550.000000</td>\n",
       "      <td>10000.000000</td>\n",
       "      <td>3.000000</td>\n",
       "      <td>0.000000</td>\n",
       "      <td>2.587500e+05</td>\n",
       "      <td>1.000000</td>\n",
       "    </tr>\n",
       "    <tr>\n",
       "      <th>50%</th>\n",
       "      <td>35000.000000</td>\n",
       "      <td>15500.000000</td>\n",
       "      <td>4.000000</td>\n",
       "      <td>0.000000</td>\n",
       "      <td>4.474200e+05</td>\n",
       "      <td>1.000000</td>\n",
       "    </tr>\n",
       "    <tr>\n",
       "      <th>75%</th>\n",
       "      <td>50375.000000</td>\n",
       "      <td>25000.000000</td>\n",
       "      <td>5.000000</td>\n",
       "      <td>3500.000000</td>\n",
       "      <td>5.947200e+05</td>\n",
       "      <td>2.000000</td>\n",
       "    </tr>\n",
       "    <tr>\n",
       "      <th>max</th>\n",
       "      <td>100000.000000</td>\n",
       "      <td>50000.000000</td>\n",
       "      <td>7.000000</td>\n",
       "      <td>35000.000000</td>\n",
       "      <td>1.404000e+06</td>\n",
       "      <td>4.000000</td>\n",
       "    </tr>\n",
       "  </tbody>\n",
       "</table>\n",
       "</div>"
      ],
      "text/plain": [
       "       Mthly_HH_Income  Mthly_HH_Expense  No_of_Fly_Members  Emi_or_Rent_Amt  \\\n",
       "count        50.000000         50.000000          50.000000        50.000000   \n",
       "mean      41558.000000      18818.000000           4.060000      3060.000000   \n",
       "std       26097.908979      12090.216824           1.517382      6241.434948   \n",
       "min        5000.000000       2000.000000           1.000000         0.000000   \n",
       "25%       23550.000000      10000.000000           3.000000         0.000000   \n",
       "50%       35000.000000      15500.000000           4.000000         0.000000   \n",
       "75%       50375.000000      25000.000000           5.000000      3500.000000   \n",
       "max      100000.000000      50000.000000           7.000000     35000.000000   \n",
       "\n",
       "       Annual_HH_Income  No_of_Earning_Members  \n",
       "count      5.000000e+01              50.000000  \n",
       "mean       4.900190e+05               1.460000  \n",
       "std        3.201358e+05               0.734291  \n",
       "min        6.420000e+04               1.000000  \n",
       "25%        2.587500e+05               1.000000  \n",
       "50%        4.474200e+05               1.000000  \n",
       "75%        5.947200e+05               2.000000  \n",
       "max        1.404000e+06               4.000000  "
      ]
     },
     "execution_count": 4,
     "metadata": {},
     "output_type": "execute_result"
    }
   ],
   "source": [
    "#The following command is used to understand certain parameters of the data like count, mean, median etc..\n",
    "df.describe()"
   ]
  },
  {
   "cell_type": "markdown",
   "metadata": {},
   "source": [
    "The command __df.describe()__ may feel a little overwhelming at the moment, we will unveil most of them in this notebook."
   ]
  },
  {
   "cell_type": "markdown",
   "metadata": {},
   "source": [
    "## Measures of central tendency:\n",
    "Measures of central tendency are numbers that describe what is average or typical within a distribution of data. There are three main measures of central tendency: mean, median, and mode. While they are all measures of central tendency, each is calculated differently and measures something different from the others."
   ]
  },
  {
   "cell_type": "markdown",
   "metadata": {},
   "source": [
    "### 1. Mean: \n",
    "The mean is the most common measure of central tendency also called as average. Anyone can use the mean to describe the data distribution of variables measured as intervals or ratios. These are variables that include numerically corresponding categories or ranges like income, heights, population etc..\n",
    "\n",
    "It is very simple to calculate mean. One simply has to add all the data values and then divide this sum by the total number of scores in the distribution of data. \n",
    "The symbol for denoting mean is $/mu$. <br>\n",
    "$$\\mu = \\frac{sum\\ of\\ values} {Total\\ number\\ of\\ values}$$"
   ]
  },
  {
   "cell_type": "markdown",
   "metadata": {},
   "source": [
    "Let us now calculate the mean of the column called, __Annual_HH_Income__"
   ]
  },
  {
   "cell_type": "code",
   "execution_count": 5,
   "metadata": {},
   "outputs": [
    {
     "name": "stdout",
     "output_type": "stream",
     "text": [
      "The mean of the annual income is 490019.04\n"
     ]
    }
   ],
   "source": [
    "# Method 1\n",
    "# defining a function called m1 that calculates mean\n",
    "def m1(x):\n",
    "    a = sum(x)\n",
    "    b = len(x)\n",
    "    return a/b\n",
    "# calling the function m1 on our column Annual_HH_Income\n",
    "a = m1(df['Annual_HH_Income'])\n",
    "print(\"The mean of the annual income is {}\".format(a))"
   ]
  },
  {
   "cell_type": "code",
   "execution_count": 6,
   "metadata": {},
   "outputs": [
    {
     "name": "stdout",
     "output_type": "stream",
     "text": [
      "The mean of the annual income is 490019.04\n"
     ]
    }
   ],
   "source": [
    "# Method 2\n",
    "# The mean can easily calculated using built-in function as follow:\n",
    "b = df['Annual_HH_Income'].mean()\n",
    "print(\"The mean of the annual income is {}\".format(b))"
   ]
  },
  {
   "cell_type": "markdown",
   "metadata": {},
   "source": [
    "You can clearly observe that the we have calculated the mean using two methods and got the output to be exacly same."
   ]
  },
  {
   "cell_type": "markdown",
   "metadata": {},
   "source": [
    "### 2. Median:\n",
    "The median is the value at the middle of a distribution of data when those data are organized from the lowest to the highest value.<br>\n",
    "\n",
    "Let’s suppose we have the following list of numbers: 5, 7, 10, 43, 2, 69, 31, 6, 22. Initially, we must arrange the numbers in order from lowest to highest i.e sorting them in ascending order. The result is this: 2, 5, 6, 7, 10, 22, 31, 43, 69. The __median is 10__ because it is the exact middle number. There are 4 numbers on each side of the value 10.\n",
    "\n",
    "If your data distribution has an even number of cases which means that there are no single middle value, one can simply adjust the data range slightly in order to calculate the median. <br>\n",
    "\n",
    "For example, if we add the number 87 to the end of our list of numbers above, we have 10 total numbers in our distribution, so there is no single middle number. In this case, one takes the average of the scores for the two middle numbers. In our new list, the two middle numbers are 10 and 22. So, we take the average of those two numbers: (10 + 22) /2 = 16. Our __median is now 16.__"
   ]
  },
  {
   "cell_type": "markdown",
   "metadata": {},
   "source": [
    "Let us calculate the median value of the same paramerer __Annual_HH_Income__ of the given dataset"
   ]
  },
  {
   "cell_type": "code",
   "execution_count": 7,
   "metadata": {},
   "outputs": [
    {
     "name": "stdout",
     "output_type": "stream",
     "text": [
      "The annual median income value is 447420.0\n"
     ]
    }
   ],
   "source": [
    "# Method 1\n",
    "def m2(x):\n",
    "    a = len(x)\n",
    "    index = a // 2\n",
    "    if a % 2:\n",
    "        return sorted(x)[index]\n",
    "    return sum(sorted(x)[index - 1:index + 1]) / 2\n",
    "a = m2(df['Annual_HH_Income'])\n",
    "print(\"The annual median income value is {}\".format(a))"
   ]
  },
  {
   "cell_type": "code",
   "execution_count": 8,
   "metadata": {},
   "outputs": [
    {
     "name": "stdout",
     "output_type": "stream",
     "text": [
      "The annual median income value is 447420.0\n"
     ]
    }
   ],
   "source": [
    "# Method 2\n",
    "b = df[\"Annual_HH_Income\"].median()\n",
    "print(\"The annual median income value is {}\".format(b))"
   ]
  },
  {
   "cell_type": "markdown",
   "metadata": {},
   "source": [
    "We can observe that in either of the above two approaches, we got the same results."
   ]
  },
  {
   "cell_type": "markdown",
   "metadata": {},
   "source": [
    "### 3. Mode:\n",
    "The mode is the measure of central tendency that identifies the category or value that occurs the most frequently within the distribution of data. In other words, it is the most common score that appears the highest number of times in a distribution.\n",
    "<br>\n",
    "\n",
    "For example, let’s say we are looking at number of persons present in each family among 100 families and the distribution looks like this:\n",
    "<br>\n",
    "\n",
    ">4 persons: 60 <br>\n",
    "3 persons: 35 <br>\n",
    "2 persons: 17 <br>\n",
    "5 persons: 13 <br>\n",
    "6 persons: 3 <br>\n",
    "\n",
    "So for the above distribution, the 4 persons families are higher in frequency with 60. <br> The mode of the above distribution is __4_persons__ <br>\n",
    "\n",
    "IF your distribution has 2 high frequencies of the same value then we should consider both the values and such a distribution is called __Bimodal distribution__ <br>\n",
    "Similarly, if any distribution has more than 2 modes then it is called __multimodal distribution__."
   ]
  },
  {
   "cell_type": "markdown",
   "metadata": {},
   "source": [
    "The formula for calculating mode is given as <br>\n",
    "$$\n",
    "z = L + \\frac{(fm - f1)h} {(fm-f1)(fm-f2)}\n",
    "$$\n",
    "\n",
    ">Where, <br>\n",
    ">L = Lower limit Mode of modal class <br>\n",
    "fm = Frequency of modal class<br>\n",
    "f1 = Frequency of class preceding the modal class <br>\n",
    "f2= Frequency of class succeeding the modal class <br>\n",
    "h = Size of class interval <br>"
   ]
  },
  {
   "cell_type": "markdown",
   "metadata": {},
   "source": [
    "Let us now calculate the mode of the column __No_of_Fly_Members.__"
   ]
  },
  {
   "cell_type": "code",
   "execution_count": 9,
   "metadata": {},
   "outputs": [
    {
     "name": "stdout",
     "output_type": "stream",
     "text": [
      "The mode of no. of family members is [4]\n"
     ]
    }
   ],
   "source": [
    "#Method 1 by creating a function called m3\n",
    "from collections import Counter\n",
    "def m3(x):\n",
    "    a = Counter(x)\n",
    "    return [b for b, c in a.items() if c == a.most_common(1)[0][1]]\n",
    "a = m3(df['No_of_Fly_Members'])\n",
    "print(\"The mode of no. of family members is {}\".format(a))"
   ]
  },
  {
   "cell_type": "code",
   "execution_count": 10,
   "metadata": {},
   "outputs": [
    {
     "name": "stdout",
     "output_type": "stream",
     "text": [
      "The mode of no. of family members is 0    4\n",
      "dtype: int64\n"
     ]
    }
   ],
   "source": [
    "# Mrthod 2 is simply by using an built-in function\n",
    "b = df['No_of_Fly_Members'].mode()\n",
    "print(\"The mode of no. of family members is {}\".format(b))"
   ]
  },
  {
   "cell_type": "markdown",
   "metadata": {},
   "source": [
    "_With this we have completed the measures of central tendency_"
   ]
  },
  {
   "cell_type": "markdown",
   "metadata": {},
   "source": [
    "## Measure of Variability:\n",
    "The measure of variability is the statistical summary, which represents the dispersion within the datasets. On the other hand, the measure of central tendency defines the standard value. <br>\n",
    "\n",
    "Statisticians use measures of variability to check how far the data points are going to fall from the given central value. We can calculate __Range, Variance and Standard deviation__ in order to measure the variability in the data. "
   ]
  },
  {
   "cell_type": "markdown",
   "metadata": {},
   "source": [
    "### 1. Range: \n",
    "The range gives you an idea of how far apart the most extreme response scores are. To calculate the range we shall subtract the minimum value from the data from the maximum value. <br>\n",
    "> For example, Let the data be 5, 17, 24, 2, 199, 100 <br>\n",
    "The maximum value is max = 199 <br>\n",
    "The minimum value is min = 2 <br>\n",
    "Now, the range is r = max - min i.e 199 -2 <br>\n",
    "                        r = 197"
   ]
  },
  {
   "cell_type": "markdown",
   "metadata": {},
   "source": [
    "Let us find the variability of the column __Mthly_HH_Expense__ "
   ]
  },
  {
   "cell_type": "code",
   "execution_count": 11,
   "metadata": {},
   "outputs": [
    {
     "name": "stdout",
     "output_type": "stream",
     "text": [
      "The range of the monthly Household expenses column is given by 48000\n"
     ]
    }
   ],
   "source": [
    "# Method 1\n",
    "def range(x):\n",
    "    return max(x) - min(x)\n",
    "a = range(df[\"Mthly_HH_Expense\"])\n",
    "print(\"The range of the monthly Household expenses column is given by {}\". format(a))"
   ]
  },
  {
   "cell_type": "code",
   "execution_count": 12,
   "metadata": {},
   "outputs": [
    {
     "name": "stdout",
     "output_type": "stream",
     "text": [
      "The range of the monthly Household expenses column is given by 48000\n"
     ]
    }
   ],
   "source": [
    "# Method 2\n",
    "b = df['Mthly_HH_Expense'].max() - df['Mthly_HH_Expense'].min()\n",
    "print(\"The range of the monthly Household expenses column is given by {}\". format(b))"
   ]
  },
  {
   "cell_type": "markdown",
   "metadata": {},
   "source": [
    "### 2. Varaince ($\\sigma^2$)\n",
    "The variance is the average of squared deviations from the mean. Variance reflects the degree of spread in the data set. The more spread the data, the larger the variance is in relation to the mean.<br>\n",
    "\n",
    "To find the variance, we can square the standard deviation. The symbol for variance is $\\sigma^2$. <br>\n",
    "__Note:__: We will learn more about standard deviation in the next section."
   ]
  },
  {
   "cell_type": "markdown",
   "metadata": {},
   "source": [
    ">To find the varaince,\n",
    "\n",
    ">1. find their mean of the data.<br>\n",
    "2. Subtract the mean from each value to get the deviation from the mean.<br>\n",
    "3. Square each of these deviations.<br>\n",
    "4. Sum up all of the squared deviations.<br>\n",
    "5. Divide the sum of the squared deviations by N – 1. It is N-1 because we do not consider the mean point.  <br>"
   ]
  },
  {
   "cell_type": "markdown",
   "metadata": {},
   "source": [
    "The formula for finding the variance is simply, given as\n",
    "$$\n",
    "\\sigma^2 = \\frac{\\sum_i^n(x_i-\\bar{X})^2}{n-1}\n",
    "$$"
   ]
  },
  {
   "cell_type": "markdown",
   "metadata": {},
   "source": [
    "> $\\bar{X}$ = Mean <br>\n",
    "n = count or total number of values<br>\n",
    "$\\sigma^2$ = variance <br>"
   ]
  },
  {
   "cell_type": "markdown",
   "metadata": {},
   "source": [
    "Let us now find the variance of the column __Emi_or_Rent_Amt__"
   ]
  },
  {
   "cell_type": "code",
   "execution_count": 13,
   "metadata": {},
   "outputs": [
    {
     "name": "stdout",
     "output_type": "stream",
     "text": [
      "The variance in the Emi or Rent amount paid by the families is 38176400.0\n"
     ]
    }
   ],
   "source": [
    "# Method 1\n",
    "def variance(data):\n",
    "    mean = sum(data) / len(data)\n",
    "    var = sum((a - mean) ** 2 for a in data) / len(data)\n",
    "    return var\n",
    "a = variance(df['Emi_or_Rent_Amt'])\n",
    "print(\"The variance in the Emi or Rent amount paid by the families is {}\". format(a))"
   ]
  },
  {
   "cell_type": "code",
   "execution_count": 14,
   "metadata": {},
   "outputs": [
    {
     "name": "stdout",
     "output_type": "stream",
     "text": [
      "The variance in the Emi or Rent amount paid by the families is 38176400.0\n"
     ]
    }
   ],
   "source": [
    "# Method 2 by using var method in numpy library\n",
    "b = np.var(df['Emi_or_Rent_Amt'])\n",
    "print(\"The variance in the Emi or Rent amount paid by the families is {}\". format(b))"
   ]
  },
  {
   "cell_type": "markdown",
   "metadata": {},
   "source": [
    "### 3. Standard deviation ($\\sigma$):\n",
    "The standard deviation ($\\sigma$) is the average amount of variability in the dataset. It tells us, on an average, how far each value lies from the mean. The larger the standard deviation, the more variability in the the data set."
   ]
  },
  {
   "cell_type": "markdown",
   "metadata": {},
   "source": [
    ">To find the standard deviation,\n",
    "\n",
    ">1. find their mean of the data.<br>\n",
    "2. Subtract the mean from each value to get the deviation from the mean.<br>\n",
    "3. Square each of these deviations.<br>\n",
    "4. Sum up all of the squared deviations.<br>\n",
    "5. Divide the sum of the squared deviations by N – 1. It is N-1 because we do not consider the mean point.  <br>\n",
    "6. Find the square root of the number you found.<br>"
   ]
  },
  {
   "cell_type": "markdown",
   "metadata": {},
   "source": [
    "The formula for calculating the standard deviation is given as, <br>\n",
    "$$\n",
    "\\sigma = \\sqrt\\frac{\\sum_i^n(x_i-\\bar{X})^2}{n-1}\n",
    "$$"
   ]
  },
  {
   "cell_type": "markdown",
   "metadata": {},
   "source": [
    "> $\\bar{X}$ = Mean <br>\n",
    "n = count or total number of values<br>\n",
    "$\\sigma$ = stadard deviation<br>"
   ]
  },
  {
   "cell_type": "markdown",
   "metadata": {},
   "source": [
    "Now, let's calculate the standard deviation of the column __Mthly_HH_Expense__ to understand the deviation that the distribution has in monthly household expenses."
   ]
  },
  {
   "cell_type": "code",
   "execution_count": 15,
   "metadata": {},
   "outputs": [
    {
     "name": "stdout",
     "output_type": "stream",
     "text": [
      "The standard deviation in the monthly household expenses of given set of families is 11968.704023410388\n"
     ]
    }
   ],
   "source": [
    "# Method 1 by defining a function to calculate the the std\n",
    "def stdev(data):\n",
    "    var = variance(data)\n",
    "    std = math.sqrt(var)\n",
    "    return std\n",
    "a = stdev(df['Mthly_HH_Expense'])\n",
    "print(\"The standard deviation in the monthly household expenses of given set of families is {}\".format(a))"
   ]
  },
  {
   "cell_type": "code",
   "execution_count": 16,
   "metadata": {},
   "outputs": [
    {
     "name": "stdout",
     "output_type": "stream",
     "text": [
      "The standard deviation in the monthly household expenses of given set of families is 11968.704023410388\n"
     ]
    }
   ],
   "source": [
    "# Method 2 is by using std method or function present in the numpy library \n",
    "b = np.std(df['Mthly_HH_Expense'])\n",
    "print(\"The standard deviation in the monthly household expenses of given set of families is {}\".format(b))"
   ]
  },
  {
   "cell_type": "markdown",
   "metadata": {},
   "source": [
    "### 4. Correlation ($r_{xy}$):\n",
    "Pearson r correlation is the most widely used correlation statistic to measure the degree of the relationship between linearly related variables.<br>\n",
    "\n",
    "For example, in the stock market, if we want to measure how two stocks are related to each other, Pearson r correlation is used to measure the degree of relationship between the two. <br>\n",
    "\n",
    "The formula to calculate the correlation coefficient r is given as\n",
    "\n",
    "$$\n",
    "r_{xy} = \\frac{\\sum_i^n(x_i-\\bar{X})(y_i-\\bar{Y})}{\\sqrt\\sum_i^n(x_i-\\bar{X})^2\\sqrt(y_i-\\bar{Y})^2}\n",
    "$$"
   ]
  },
  {
   "cell_type": "markdown",
   "metadata": {},
   "source": [
    ">$r_{xy}$ = Pearson r correlation coefficient between x and y <br>\n",
    "n = number of observations <br>\n",
    "$x_i$ = value of x (for $i^{th}$ observation)<br>\n",
    "$y_i$ = value of y (for $i^{th}$ observation)<br>"
   ]
  },
  {
   "cell_type": "markdown",
   "metadata": {},
   "source": [
    "Now, we shall find the correlation between __Mthly_HH_Income and Mthly_HH_Expense__ to understand the correlation between Income and Expenses. "
   ]
  },
  {
   "cell_type": "code",
   "execution_count": 17,
   "metadata": {},
   "outputs": [
    {
     "name": "stdout",
     "output_type": "stream",
     "text": [
      "The correlation between Income and Expenses of the families given is 0.65\n"
     ]
    }
   ],
   "source": [
    "# Method 1\n",
    "def pearson(x, y):\n",
    "    n = len(x)\n",
    "    sum_x = float(sum(x))\n",
    "    sum_y = float(sum(y))\n",
    "    sum_x_seq = sum(xi*xi for xi in x)\n",
    "    sum_y_seq = sum(yi*yi for yi in y)\n",
    "    psum = sum(xi*yi for xi, yi in zip(x, y))\n",
    "    num = psum - (sum_x * sum_y/n)\n",
    "    den = pow((sum_x_seq - pow(sum_x, 2) / n) * (sum_y_seq - pow(sum_y, 2) / n), 0.5)\n",
    "    if den == 0: return 0\n",
    "    return num / den\n",
    "\n",
    "a = round(pearson(df['Mthly_HH_Income'],df['Mthly_HH_Expense']),2)\n",
    "print(\"The correlation between Income and Expenses of the families given is {}\".format(a))"
   ]
  },
  {
   "cell_type": "code",
   "execution_count": 18,
   "metadata": {},
   "outputs": [
    {
     "name": "stdout",
     "output_type": "stream",
     "text": [
      "The correlation between Income and Expenses of the families given is 0.65\n"
     ]
    }
   ],
   "source": [
    "# Method 2\n",
    "b = round(df['Mthly_HH_Income'].corr(df['Mthly_HH_Expense']), 2)\n",
    "print(\"The correlation between Income and Expenses of the families given is {}\".format(b))"
   ]
  },
  {
   "cell_type": "markdown",
   "metadata": {},
   "source": [
    "This briefly sums up the measures of variability concepts in the descriptive statistics. <br>We are now moving into something very interesting which is distributions. From now on, we will be using other libraries like seaborn, matplotlib to visualise the output."
   ]
  },
  {
   "cell_type": "markdown",
   "metadata": {},
   "source": [
    "### Normal Distribution:\n",
    "A distribution in which the data is symmetrically distributed with no skew is called __Normal distribution__. <br>\n",
    "When plotted on a graph, the data follows a bell shape, with most values clustering around a central region and tapering off as they go further away from the center. \n",
    "\n",
    "Normal distributions are also called Gaussian distributions or bell curves because of their shape.<br>"
   ]
  },
  {
   "cell_type": "markdown",
   "metadata": {},
   "source": [
    "> The formula for calculating the normal distribution function is given as,<br>\n",
    "$$\n",
    "f(x,\\mu,\\sigma) = \\frac{1}{\\sigma\\sqrt2\\pi}e^\\frac{-(x-\\mu)^2}{2\\sigma^2}\n",
    "$$"
   ]
  },
  {
   "cell_type": "markdown",
   "metadata": {},
   "source": [
    "> where, <br>\n",
    "x = values of array x<br>\n",
    ">$\\mu$ = mean of the distribution <br>\n",
    ">$\\sigma^2$ = variance of the distribution <br>\n",
    "$\\sigma$ = standard deviation of the distribution"
   ]
  },
  {
   "cell_type": "markdown",
   "metadata": {},
   "source": [
    "Let us use the library numpy to generate some random values and plot the distribution using the seaborn to visualise the normal distribution."
   ]
  },
  {
   "cell_type": "code",
   "execution_count": 20,
   "metadata": {},
   "outputs": [
    {
     "data": {
      "text/plain": [
       "<matplotlib.axes._subplots.AxesSubplot at 0x225eeb38710>"
      ]
     },
     "execution_count": 20,
     "metadata": {},
     "output_type": "execute_result"
    },
    {
     "data": {
      "image/png": "[encoded data removed]",
      "text/plain": [
       "<Figure size 432x288 with 1 Axes>"
      ]
     },
     "metadata": {
      "needs_background": "light"
     },
     "output_type": "display_data"
    }
   ],
   "source": [
    "norm = np.random.normal(loc = 20, scale = 10, size = 50000)\n",
    "sns.distplot(norm, kde = True)\n"
   ]
  },
  {
   "cell_type": "markdown",
   "metadata": {},
   "source": [
    "Above is the normally distributed random data of 50000 data points with mean($\\mu$) at 20 and standard deviation ($\\sigma$) = 10"
   ]
  },
  {
   "cell_type": "markdown",
   "metadata": {},
   "source": [
    "### Features of Normal distrubution"
   ]
  },
  {
   "cell_type": "markdown",
   "metadata": {},
   "source": [
    "There are certain characteristics that makes normal distribution more popular and widely used. Let us see them in detail,<br>\n",
    "> 1.The mean, median and mode values for a normal distribution are all equal.<br>\n",
    "\n",
    "> 2.Approximately 68% of values in the distribution are within 1 Standard deviation of the mean, i.e., above or below.<br>\n",
    "P ($\\mu - \\sigma < X < \\mu + \\sigma$) = 0.68\n",
    "\n",
    ">3.Approximately 95% of values in the distribution are within 2 Standard deviations of the mean.\n",
    "P ($\\mu - 2\\sigma < X < \\mu + 2\\sigma$) = 0.95\n",
    "\n",
    ">4.Approximately 99% of values in the distribution are within 3 Standard deviations of the mean.\n",
    "P ($\\mu - 3\\sigma < X < \\mu + 3\\sigma$) = 0.99\n",
    "\n",
    ">5.Total area under the curve is equal to 1\n",
    "\n",
    ">6.The curve is symmetric about the mean.\n"
   ]
  },
  {
   "cell_type": "markdown",
   "metadata": {},
   "source": [
    "Let us now visualise the above stated properties. Calculating the mean and standard deviation of the above plot are"
   ]
  },
  {
   "cell_type": "code",
   "execution_count": 21,
   "metadata": {},
   "outputs": [
    {
     "name": "stdout",
     "output_type": "stream",
     "text": [
      "20.00340253970552 9.976320763205923\n"
     ]
    }
   ],
   "source": [
    "mean_norm = norm.mean()\n",
    "std_norm = norm.std()\n",
    "print(mean_norm, std_norm)"
   ]
  },
  {
   "cell_type": "code",
   "execution_count": 22,
   "metadata": {},
   "outputs": [
    {
     "data": {
      "text/plain": [
       "<matplotlib.legend.Legend at 0x225eecd01d0>"
      ]
     },
     "execution_count": 22,
     "metadata": {},
     "output_type": "execute_result"
    },
    {
     "data": {
      "image/png": "[encoded data removed]",
      "text/plain": [
       "<Figure size 1080x720 with 1 Axes>"
      ]
     },
     "metadata": {
      "needs_background": "light"
     },
     "output_type": "display_data"
    }
   ],
   "source": [
    "one_stdev_left = mean_norm - (1 * std_norm)\n",
    "one_stdev_right = mean_norm + (1*std_norm)\n",
    "two_stdev_left = mean_norm - (2*std_norm)\n",
    "two_stdev_right = mean_norm + (2*std_norm)\n",
    "three_stdev_left = mean_norm - (3*std_norm)\n",
    "three_stdev_right = mean_norm + (3*std_norm)\n",
    "plt.figure(figsize=(15, 10))\n",
    "\n",
    "sns.distplot(norm)\n",
    "\n",
    "plt.axvline(mean_norm, color='red', label='Mean')\n",
    "\n",
    "plt.axvline(one_stdev_right, color='blue', label='Mean + 1 std dev')\n",
    "plt.axvline(one_stdev_left, color='blue', label='Mean - 1std dev')\n",
    "plt.axvline(two_stdev_right, color='green', label='Mean + 2std dev')\n",
    "plt.axvline(two_stdev_left, color='green', label='Mean - 2std dev')\n",
    "plt.axvline(three_stdev_right, color='black', label='Mean + 3std dev')\n",
    "plt.axvline(three_stdev_left, color='black', label='Mean - 3std dev')\n",
    "plt.legend()\n"
   ]
  },
  {
   "cell_type": "markdown",
   "metadata": {},
   "source": [
    ">From the above visualisation we can observe that,<br>\n",
    "The distribution is symmetric,<br>\n",
    "The coloured lines depicts the distribution with respect to number of standard deviations."
   ]
  },
  {
   "cell_type": "markdown",
   "metadata": {},
   "source": [
    "We shall see one example for the normal distribution from our data.csv file with a column data"
   ]
  },
  {
   "cell_type": "code",
   "execution_count": 23,
   "metadata": {},
   "outputs": [
    {
     "data": {
      "text/plain": [
       "<matplotlib.legend.Legend at 0x225ef03b160>"
      ]
     },
     "execution_count": 23,
     "metadata": {},
     "output_type": "execute_result"
    },
    {
     "data": {
      "image/png": "[encoded data removed]",
      "text/plain": [
       "<Figure size 432x288 with 1 Axes>"
      ]
     },
     "metadata": {
      "needs_background": "light"
     },
     "output_type": "display_data"
    }
   ],
   "source": [
    "sns.distplot(df['Mthly_HH_Income'], kde = True)\n",
    "plt.axvline(df[\"Mthly_HH_Income\"].mean(), color='red', label='Mean')\n",
    "plt.legend()"
   ]
  },
  {
   "cell_type": "markdown",
   "metadata": {},
   "source": [
    "### Positively Skewed Normal distribution:\n",
    "Positively Skewed Distribution is a type of distribution where the mean, median and mode of the distribution are positive rather than negative or zero i.e., data distribution occurs more on the one side i.e left side of the scale with long tail on the right side.<br>\n",
    ">Let us see one such distribution from our data set by exploring Annual_HH_Income column"
   ]
  },
  {
   "cell_type": "code",
   "execution_count": 24,
   "metadata": {},
   "outputs": [
    {
     "data": {
      "text/plain": [
       "<matplotlib.legend.Legend at 0x225eed5ae80>"
      ]
     },
     "execution_count": 24,
     "metadata": {},
     "output_type": "execute_result"
    },
    {
     "data": {
      "image/png": "[encoded data removed]",
      "text/plain": [
       "<Figure size 432x288 with 1 Axes>"
      ]
     },
     "metadata": {
      "needs_background": "light"
     },
     "output_type": "display_data"
    }
   ],
   "source": [
    "sns.distplot(df['Annual_HH_Income'], kde = True)\n",
    "plt.axvline(df[\"Annual_HH_Income\"].mean(), color='red', label='Mean')\n",
    "plt.axvline(df[\"Annual_HH_Income\"].median(), color='blue', label='Median')\n",
    "plt.legend()\n"
   ]
  },
  {
   "cell_type": "markdown",
   "metadata": {},
   "source": [
    "Let us see the mean and median values of the above plot"
   ]
  },
  {
   "cell_type": "code",
   "execution_count": 25,
   "metadata": {},
   "outputs": [
    {
     "name": "stdout",
     "output_type": "stream",
     "text": [
      "The mean is 490019.04 and median is 447420.0\n"
     ]
    }
   ],
   "source": [
    "print(\"The mean is {} and median is {}\".format(df[\"Annual_HH_Income\"].mean(),df[\"Annual_HH_Income\"].median()))\n"
   ]
  },
  {
   "cell_type": "markdown",
   "metadata": {},
   "source": [
    "So this clearly shows that the above distribution is positively skewed.<br>\n",
    "We can convert the right skewed distribution into normal distribution by using box cox. Let us see that in action "
   ]
  },
  {
   "cell_type": "code",
   "execution_count": 26,
   "metadata": {},
   "outputs": [
    {
     "data": {
      "text/plain": [
       "<matplotlib.legend.Legend at 0x225eeddd7b8>"
      ]
     },
     "execution_count": 26,
     "metadata": {},
     "output_type": "execute_result"
    },
    {
     "data": {
      "image/png": "[encoded data removed]",
      "text/plain": [
       "<Figure size 432x288 with 1 Axes>"
      ]
     },
     "metadata": {
      "needs_background": "light"
     },
     "output_type": "display_data"
    }
   ],
   "source": [
    "df['Annual_HH_Income'] = stats.boxcox(df['Annual_HH_Income'])[0]\n",
    "sns.distplot(df['Annual_HH_Income'], kde = True)\n",
    "plt.axvline(df[\"Annual_HH_Income\"].mean(), color='red', label='Mean')\n",
    "plt.axvline(df[\"Annual_HH_Income\"].median(), color='blue', label='Median')\n",
    "plt.legend()"
   ]
  },
  {
   "cell_type": "markdown",
   "metadata": {},
   "source": [
    "We can also plot a qq plot for the above distribution,"
   ]
  },
  {
   "cell_type": "code",
   "execution_count": 27,
   "metadata": {},
   "outputs": [
    {
     "data": {
      "image/png": "[encoded data removed]",
      "text/plain": [
       "<Figure size 432x288 with 1 Axes>"
      ]
     },
     "metadata": {
      "needs_background": "light"
     },
     "output_type": "display_data"
    }
   ],
   "source": [
    "stats.probplot(df['Annual_HH_Income'], dist=\"norm\", plot=plt)\n",
    "\n",
    "plt.grid()"
   ]
  },
  {
   "cell_type": "markdown",
   "metadata": {},
   "source": [
    "So we can see how the plot's skewness has been removed by boxcox method of stats library. We will do similar operations on a negatively skewed distribution before winding up this,\n"
   ]
  },
  {
   "cell_type": "markdown",
   "metadata": {},
   "source": [
    "### Negatively Skewed distributon\n",
    "Negatively Skewed Distribution is a type of distribution where the mean, median and mode of the distribution are negative rather than positive or zero i.e., data distribution occurs more on the one side i.e right side of the scale with long tail on the left side. <br>\n",
    "\n",
    "> Fortunately, our dataset doesn't have any negatively skewed parameter. We shall see one raw example for the visualisation purpose"
   ]
  },
  {
   "cell_type": "code",
   "execution_count": 28,
   "metadata": {},
   "outputs": [
    {
     "data": {
      "text/plain": [
       "<matplotlib.legend.Legend at 0x225eeebec50>"
      ]
     },
     "execution_count": 28,
     "metadata": {},
     "output_type": "execute_result"
    },
    {
     "data": {
      "image/png": "[encoded data removed]",
      "text/plain": [
       "<Figure size 432x288 with 1 Axes>"
      ]
     },
     "metadata": {
      "needs_background": "light"
     },
     "output_type": "display_data"
    }
   ],
   "source": [
    "L = [1,2,3,3,4,4,4,5,5,5,5,5,6,7,7,7,7,7,7,7,8,8,8,8, 9,9,9,9,10,10,10,10]\n",
    "sns.distplot(L, kde = True)\n",
    "plt.axvline(m1(L), color='red', label='Mean')\n",
    "plt.axvline(m2(L), color='blue', label='Median')\n",
    "plt.legend()"
   ]
  },
  {
   "cell_type": "markdown",
   "metadata": {},
   "source": [
    "So this clearly shows that the above distribution is negatively skewed.\n",
    "We can convert the negatively skewed distribution into normal distribution by using box cox. Let us see that in action"
   ]
  },
  {
   "cell_type": "code",
   "execution_count": 29,
   "metadata": {},
   "outputs": [
    {
     "data": {
      "text/plain": [
       "<matplotlib.axes._subplots.AxesSubplot at 0x225eef1a978>"
      ]
     },
     "execution_count": 29,
     "metadata": {},
     "output_type": "execute_result"
    },
    {
     "data": {
      "image/png": "[encoded data removed]",
      "text/plain": [
       "<Figure size 432x288 with 1 Axes>"
      ]
     },
     "metadata": {
      "needs_background": "light"
     },
     "output_type": "display_data"
    }
   ],
   "source": [
    "L = stats.boxcox(L)[0]\n",
    "sns.distplot(L, kde = True)"
   ]
  },
  {
   "cell_type": "markdown",
   "metadata": {},
   "source": [
    "Let us finally see the qq plot of this distribution. We can judge the skewness based on the qqplot as well."
   ]
  },
  {
   "cell_type": "code",
   "execution_count": 30,
   "metadata": {},
   "outputs": [
    {
     "data": {
      "image/png": "[encoded data removed]",
      "text/plain": [
       "<Figure size 432x288 with 1 Axes>"
      ]
     },
     "metadata": {
      "needs_background": "light"
     },
     "output_type": "display_data"
    }
   ],
   "source": [
    "stats.probplot(L, dist=\"norm\", plot=plt)\n",
    "\n",
    "plt.grid()"
   ]
  }
 ],
 "metadata": {
  "kernelspec": {
   "display_name": "Python 3",
   "language": "python",
   "name": "python3"
  },
  "language_info": {
   "codemirror_mode": {
    "name": "ipython",
    "version": 3
   },
   "file_extension": ".py",
   "mimetype": "text/x-python",
   "name": "python",
   "nbconvert_exporter": "python",
   "pygments_lexer": "ipython3",
   "version": "3.7.1"
  }
 },
 "nbformat": 4,
 "nbformat_minor": 2
}
